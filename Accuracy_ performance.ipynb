{
 "cells": [
  {
   "cell_type": "code",
   "execution_count": 1,
   "metadata": {},
   "outputs": [],
   "source": [
    "import pickle\n",
    "import numpy as np\n",
    "import matplotlib.pyplot as plt"
   ]
  },
  {
   "cell_type": "code",
   "execution_count": null,
   "metadata": {},
   "outputs": [],
   "source": [
    "with open('svmcm_acc.pkl','wb') as my_file_obj:\n",
    "    pickle.dump(accuracycm,my_file_obj) \n",
    "with open('svmcm_pre.pkl','wb') as my_file_obj:\n",
    "    pickle.dump(precisioncm,my_file_obj) \n",
    "with open('svmcm_recall.pkl','wb') as my_file_obj:\n",
    "    pickle.dump(recallcm,my_file_obj)\n",
    "with open('svmcm_f1.pkl','wb') as my_file_obj:\n",
    "    pickle.dump(f1cm,my_file_obj)"
   ]
  },
  {
   "cell_type": "code",
   "execution_count": 13,
   "metadata": {},
   "outputs": [
    {
     "ename": "IndentationError",
     "evalue": "unindent does not match any outer indentation level (<tokenize>, line 4)",
     "output_type": "error",
     "traceback": [
      "\u001b[1;36m  File \u001b[1;32m\"<tokenize>\"\u001b[1;36m, line \u001b[1;32m4\u001b[0m\n\u001b[1;33m    with open('svmcm_pre.pkl', 'wb') as f:\u001b[0m\n\u001b[1;37m    ^\u001b[0m\n\u001b[1;31mIndentationError\u001b[0m\u001b[1;31m:\u001b[0m unindent does not match any outer indentation level\n"
     ]
    }
   ],
   "source": [
    "import pickle\n",
    " with open('svmcm_acc.pkl', 'wb') as f:\n",
    "    svm_acc = pickle.load(f)\n",
    "  with open('svmcm_pre.pkl', 'wb') as f:\n",
    "    svm_acc = pickle.load(f)\n",
    "    with open('svmcm_acc.pkl', 'wb') as f:\n",
    "    svm_acc = pickle.load(f)\n",
    "    with open('svmcm_acc.pkl', 'wb') as f:\n",
    "    svm_acc = pickle.load(f)\n",
    "   with open('nbcm_acc.pkl', 'wb') as f:\n",
    "    nb_acc = pickle.load(f)\n",
    "   with open('nbcm_pre.pkl', 'wb') as f:\n",
    "    nb_acc = pickle.load(f)\n",
    "    with open('nbcm_recall.pkl', 'wb') as f:\n",
    "    nb_acc = pickle.load(f)\n",
    "    with open('nbcm_f1.pkl', 'wb') as f:\n",
    "    nb_acc = pickle.load(f)\n",
    "data=[svm_acc,nb_acc]"
   ]
  },
  {
   "cell_type": "code",
   "execution_count": 3,
   "metadata": {},
   "outputs": [
    {
     "name": "stdout",
     "output_type": "stream",
     "text": [
      "0.8933333333333333\n",
      "0.86\n"
     ]
    },
    {
     "data": {
      "image/png": "[encoded data removed]",
      "text/plain": [
       "<Figure size 432x288 with 1 Axes>"
      ]
     },
     "metadata": {
      "needs_background": "light"
     },
     "output_type": "display_data"
    }
   ],
   "source": [
    "import pickle\n",
    "import numpy as np\n",
    "import matplotlib.pyplot as plt\n",
    "\n",
    "print(svm_acc)\n",
    "print(nb_acc)\n",
    "\n",
    "X = np.arange(1)\n",
    "plt.bar(X + 0.00, svm_acc, color = 'b', width = 0.25)\n",
    "plt.bar(X + 0.50, nb_acc, color = 'g', width = 0.25)\n",
    "\n",
    "plt.show()"
   ]
  },
  {
   "cell_type": "code",
   "execution_count": null,
   "metadata": {},
   "outputs": [],
   "source": []
  },
  {
   "cell_type": "code",
   "execution_count": null,
   "metadata": {},
   "outputs": [],
   "source": []
  }
 ],
 "metadata": {
  "kernelspec": {
   "display_name": "Python 3",
   "language": "python",
   "name": "python3"
  },
  "language_info": {
   "codemirror_mode": {
    "name": "ipython",
    "version": 3
   },
   "file_extension": ".py",
   "mimetype": "text/x-python",
   "name": "python",
   "nbconvert_exporter": "python",
   "pygments_lexer": "ipython3",
   "version": "3.7.6"
  }
 },
 "nbformat": 4,
 "nbformat_minor": 4
}
